{
 "cells": [
  {
   "cell_type": "markdown",
   "metadata": {},
   "source": [
    "## Wrangle & Analyze Data\n",
    "\n",
    "## Table of contents\n",
    "- [Introduction](#intro)\n",
    "- [Gathering](#gather)\n",
    "   \n",
    "\n",
    "<a id='intro'></a>\n",
    "### Introduction\n",
    "In this project, I am going to wrangle and analyze data from Twiter account called WeRateDogs.\n",
    "WeRateDogs account rates people's dogs with a humorous comment about the dog.\n",
    "\n",
    "We are going to illustrate this project as follwing:\n",
    "- Wrangle data which consists of three steps\n",
    "    - Gathering data\n",
    "    - Assessing data\n",
    "    - Clean data\n",
    "    \n",
    "- Analyze data\n",
    "\n"
   ]
  },
  {
   "cell_type": "markdown",
   "metadata": {},
   "source": [
    "<!-- <a id='Wrangle'></a> -->\n",
    "### Wrangling Data\n",
    "<a id='gather'></a>\n",
    "#### Gathering"
   ]
  },
  {
   "cell_type": "code",
   "execution_count": null,
   "metadata": {},
   "outputs": [],
   "source": [
    "import pandas as pd\n"
   ]
  }
 ],
 "metadata": {
  "kernelspec": {
   "display_name": "Python 3",
   "language": "python",
   "name": "python3"
  },
  "language_info": {
   "codemirror_mode": {
    "name": "ipython",
    "version": 3
   },
   "file_extension": ".py",
   "mimetype": "text/x-python",
   "name": "python",
   "nbconvert_exporter": "python",
   "pygments_lexer": "ipython3",
   "version": "3.7.6"
  }
 },
 "nbformat": 4,
 "nbformat_minor": 2
}
